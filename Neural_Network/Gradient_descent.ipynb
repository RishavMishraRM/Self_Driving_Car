{
 "cells": [
  {
   "cell_type": "code",
   "execution_count": 1,
   "id": "04c7232a",
   "metadata": {
    "ExecuteTime": {
     "end_time": "2022-03-18T21:09:36.184720Z",
     "start_time": "2022-03-18T21:09:31.815729Z"
    }
   },
   "outputs": [],
   "source": [
    "import numpy as np"
   ]
  },
  {
   "cell_type": "code",
   "execution_count": 2,
   "id": "fc3c8dc1",
   "metadata": {
    "ExecuteTime": {
     "end_time": "2022-03-18T21:09:40.923855Z",
     "start_time": "2022-03-18T21:09:40.909842Z"
    }
   },
   "outputs": [],
   "source": [
    "def sigmoid(x):\n",
    "    \"\"\"\n",
    "    Calculate sigmoid\n",
    "    \"\"\"\n",
    "    return 1/(1+np.exp(-x))"
   ]
  },
  {
   "cell_type": "code",
   "execution_count": 3,
   "id": "2646afb8",
   "metadata": {
    "ExecuteTime": {
     "end_time": "2022-03-18T21:09:48.846059Z",
     "start_time": "2022-03-18T21:09:48.830065Z"
    }
   },
   "outputs": [],
   "source": [
    "learnrate = 0.5\n",
    "x = np.array([1, 2])\n",
    "y = np.array(0.5)"
   ]
  },
  {
   "cell_type": "code",
   "execution_count": 4,
   "id": "ee70aa1c",
   "metadata": {
    "ExecuteTime": {
     "end_time": "2022-03-18T21:09:56.869080Z",
     "start_time": "2022-03-18T21:09:56.853068Z"
    }
   },
   "outputs": [],
   "source": [
    "# Initial weights\n",
    "w = np.array([0.5, -0.5])"
   ]
  },
  {
   "cell_type": "code",
   "execution_count": 5,
   "id": "ab1bc0c9",
   "metadata": {
    "ExecuteTime": {
     "end_time": "2022-03-18T21:10:09.910739Z",
     "start_time": "2022-03-18T21:10:09.657869Z"
    }
   },
   "outputs": [],
   "source": [
    "# Calculate one gradient descent step for each weight\n",
    "# TODO: Calculate output of neural network\n",
    "nn_output = sigmoid(np.dot(x, w))"
   ]
  },
  {
   "cell_type": "code",
   "execution_count": 6,
   "id": "80f1f374",
   "metadata": {
    "ExecuteTime": {
     "end_time": "2022-03-18T21:10:19.014333Z",
     "start_time": "2022-03-18T21:10:19.007344Z"
    }
   },
   "outputs": [],
   "source": [
    "# TODO: Calculate error of neural network\n",
    "error = y - nn_output"
   ]
  },
  {
   "cell_type": "code",
   "execution_count": 7,
   "id": "cbdc3e40",
   "metadata": {
    "ExecuteTime": {
     "end_time": "2022-03-18T21:10:30.933531Z",
     "start_time": "2022-03-18T21:10:30.909527Z"
    }
   },
   "outputs": [],
   "source": [
    "# TODO: Calculate change in weights\n",
    "del_w = learnrate * error * nn_output * (1 - nn_output) * x"
   ]
  },
  {
   "cell_type": "code",
   "execution_count": 8,
   "id": "6fb82796",
   "metadata": {
    "ExecuteTime": {
     "end_time": "2022-03-18T21:10:34.638590Z",
     "start_time": "2022-03-18T21:10:34.589620Z"
    }
   },
   "outputs": [
    {
     "name": "stdout",
     "output_type": "stream",
     "text": [
      "Neural Network output:\n",
      "0.3775406687981454\n",
      "Amount of Error:\n",
      "0.1224593312018546\n",
      "Change in Weights:\n",
      "[0.0143892 0.0287784]\n"
     ]
    }
   ],
   "source": [
    "print('Neural Network output:')\n",
    "print(nn_output)\n",
    "print('Amount of Error:')\n",
    "print(error)\n",
    "print('Change in Weights:')\n",
    "print(del_w)"
   ]
  },
  {
   "cell_type": "code",
   "execution_count": null,
   "id": "f0ccbda6",
   "metadata": {},
   "outputs": [],
   "source": []
  }
 ],
 "metadata": {
  "kernelspec": {
   "display_name": "Python 3 (ipykernel)",
   "language": "python",
   "name": "python3"
  },
  "language_info": {
   "codemirror_mode": {
    "name": "ipython",
    "version": 3
   },
   "file_extension": ".py",
   "mimetype": "text/x-python",
   "name": "python",
   "nbconvert_exporter": "python",
   "pygments_lexer": "ipython3",
   "version": "3.9.7"
  },
  "toc": {
   "base_numbering": 1,
   "nav_menu": {},
   "number_sections": true,
   "sideBar": true,
   "skip_h1_title": false,
   "title_cell": "Table of Contents",
   "title_sidebar": "Contents",
   "toc_cell": false,
   "toc_position": {},
   "toc_section_display": true,
   "toc_window_display": false
  }
 },
 "nbformat": 4,
 "nbformat_minor": 5
}
