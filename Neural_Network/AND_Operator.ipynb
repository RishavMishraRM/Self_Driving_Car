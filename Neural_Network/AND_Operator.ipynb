{
 "cells": [
  {
   "cell_type": "code",
   "execution_count": 1,
   "id": "3ab1e2fa",
   "metadata": {
    "ExecuteTime": {
     "end_time": "2022-03-14T18:29:10.069886Z",
     "start_time": "2022-03-14T18:29:09.278091Z"
    }
   },
   "outputs": [],
   "source": [
    "import pandas as pd"
   ]
  },
  {
   "cell_type": "code",
   "execution_count": 6,
   "id": "b4b4a1ae",
   "metadata": {
    "ExecuteTime": {
     "end_time": "2022-03-14T18:29:34.416136Z",
     "start_time": "2022-03-14T18:29:34.397124Z"
    }
   },
   "outputs": [],
   "source": [
    "# TODO: Set weight1, weight2, and bias\n",
    "weight1 = 0.0\n",
    "weight2 = 0.0\n",
    "bias = 0.0"
   ]
  },
  {
   "cell_type": "code",
   "execution_count": 7,
   "id": "1a2b7cac",
   "metadata": {
    "ExecuteTime": {
     "end_time": "2022-03-14T18:29:34.697622Z",
     "start_time": "2022-03-14T18:29:34.678611Z"
    }
   },
   "outputs": [],
   "source": [
    "# DON'T CHANGE ANYTHING BELOW\n",
    "# Inputs and outputs\n",
    "test_inputs = [(0, 0), (0, 1), (1, 0), (1, 1)]\n",
    "correct_outputs = [False, False, False, True]\n",
    "outputs = []"
   ]
  },
  {
   "cell_type": "code",
   "execution_count": 8,
   "id": "66b31808",
   "metadata": {
    "ExecuteTime": {
     "end_time": "2022-03-14T18:29:34.937382Z",
     "start_time": "2022-03-14T18:29:34.926366Z"
    }
   },
   "outputs": [],
   "source": [
    "# Generate and check output\n",
    "for test_input, correct_output in zip(test_inputs, correct_outputs):\n",
    "    linear_combination = weight1 * test_input[0] + weight2 * test_input[1] + bias\n",
    "    output = int(linear_combination >= 0)\n",
    "    is_correct_string = 'Yes' if output == correct_output else 'No'\n",
    "    outputs.append([test_input[0], test_input[1], linear_combination, output, is_correct_string])"
   ]
  },
  {
   "cell_type": "code",
   "execution_count": 9,
   "id": "2a0ab70d",
   "metadata": {
    "ExecuteTime": {
     "end_time": "2022-03-14T18:29:35.188605Z",
     "start_time": "2022-03-14T18:29:35.172599Z"
    }
   },
   "outputs": [
    {
     "name": "stdout",
     "output_type": "stream",
     "text": [
      "You got 3 wrong.  Keep trying!\n",
      "\n",
      " Input 1    Input 2    Linear Combination    Activation Output   Is Correct\n",
      "       0          0                   1.8                    1           No\n",
      "       0          1                   2.8                    1           No\n",
      "       1          0                   2.8                    1           No\n",
      "       1          1                   3.8                    1          Yes\n"
     ]
    }
   ],
   "source": [
    "# Print output\n",
    "num_wrong = len([output[4] for output in outputs if output[4] == 'No'])\n",
    "output_frame = pd.DataFrame(outputs, columns=['Input 1', '  Input 2', '  Linear Combination', '  Activation Output', '  Is Correct'])\n",
    "if not num_wrong:\n",
    "    print('Nice!  You got it all correct.\\n')\n",
    "else:\n",
    "    print('You got {} wrong.  Keep trying!\\n'.format(num_wrong))\n",
    "print(output_frame.to_string(index=False))"
   ]
  },
  {
   "cell_type": "code",
   "execution_count": null,
   "id": "3636eedc",
   "metadata": {},
   "outputs": [],
   "source": []
  }
 ],
 "metadata": {
  "kernelspec": {
   "display_name": "Python 3 (ipykernel)",
   "language": "python",
   "name": "python3"
  },
  "language_info": {
   "codemirror_mode": {
    "name": "ipython",
    "version": 3
   },
   "file_extension": ".py",
   "mimetype": "text/x-python",
   "name": "python",
   "nbconvert_exporter": "python",
   "pygments_lexer": "ipython3",
   "version": "3.9.7"
  },
  "toc": {
   "base_numbering": 1,
   "nav_menu": {},
   "number_sections": true,
   "sideBar": true,
   "skip_h1_title": false,
   "title_cell": "Table of Contents",
   "title_sidebar": "Contents",
   "toc_cell": false,
   "toc_position": {},
   "toc_section_display": true,
   "toc_window_display": false
  }
 },
 "nbformat": 4,
 "nbformat_minor": 5
}
